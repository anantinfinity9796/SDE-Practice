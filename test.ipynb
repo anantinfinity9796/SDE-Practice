{
 "cells": [
  {
   "cell_type": "code",
   "execution_count": 9,
   "metadata": {},
   "outputs": [
    {
     "name": "stdout",
     "output_type": "stream",
     "text": [
      "42\n",
      "38\n"
     ]
    }
   ],
   "source": [
    "from sys import getsizeof\n",
    "key = 'employee1'.encode()\n",
    "value = 'Anant'.encode()\n",
    "print(getsizeof(key))   \n",
    "print(getsizeof(value))"
   ]
  },
  {
   "cell_type": "code",
   "execution_count": 49,
   "metadata": {},
   "outputs": [],
   "source": [
    "x = 12542545555\n",
    "y = 'hey'\n",
    "z  = 12.5\n",
    "p = False"
   ]
  },
  {
   "cell_type": "code",
   "execution_count": 14,
   "metadata": {},
   "outputs": [
    {
     "data": {
      "text/plain": [
       "b'y'"
      ]
     },
     "execution_count": 14,
     "metadata": {},
     "output_type": "execute_result"
    }
   ],
   "source": [
    "p=121\n",
    "p.to_bytes(length = 1, byteorder='big')"
   ]
  },
  {
   "cell_type": "code",
   "execution_count": 16,
   "metadata": {},
   "outputs": [
    {
     "data": {
      "text/plain": [
       "b'int'"
      ]
     },
     "execution_count": 16,
     "metadata": {},
     "output_type": "execute_result"
    }
   ],
   "source": [
    "x  = 'int'\n",
    "x.encode()"
   ]
  },
  {
   "cell_type": "code",
   "execution_count": 24,
   "metadata": {},
   "outputs": [
    {
     "name": "stdout",
     "output_type": "stream",
     "text": [
      "float\n",
      "b'float'\n"
     ]
    }
   ],
   "source": [
    "x = 'float'\n",
    "y = x.zfill(5).encode()\n",
    "print(x)\n",
    "print(y)"
   ]
  },
  {
   "cell_type": "code",
   "execution_count": 5,
   "metadata": {},
   "outputs": [
    {
     "data": {
      "text/plain": [
       "b'\\x00\\x00\\x00\\x00y'"
      ]
     },
     "execution_count": 5,
     "metadata": {},
     "output_type": "execute_result"
    }
   ],
   "source": [
    "x = 121\n",
    "x.to_bytes(length=5, byteorder='big') "
   ]
  },
  {
   "cell_type": "code",
   "execution_count": 56,
   "metadata": {},
   "outputs": [
    {
     "data": {
      "text/plain": [
       "9"
      ]
     },
     "execution_count": 56,
     "metadata": {},
     "output_type": "execute_result"
    }
   ],
   "source": [
    "t = 9\n",
    "int.from_bytes(t.to_bytes(length=4, byteorder = 'big'), byteorder='big')"
   ]
  },
  {
   "cell_type": "code",
   "execution_count": 108,
   "metadata": {},
   "outputs": [
    {
     "name": "stdout",
     "output_type": "stream",
     "text": [
      "b'anant'\n",
      "b'\\x00\\x00\\x00\\x05'\n",
      "b'int'\n",
      "b'\\x00\\x00\\x00\\x03'\n",
      "b'400'\n",
      "b'400'\n"
     ]
    },
    {
     "data": {
      "text/plain": [
       "b'\\x00\\x00\\x00\\x05anant\\x00\\x00\\x00\\x03int\\x00\\x00\\x00\\x03400'"
      ]
     },
     "execution_count": 108,
     "metadata": {},
     "output_type": "execute_result"
    }
   ],
   "source": [
    "value_dtype = 'int'\n",
    "key = 'anant'\n",
    "value = '400'\n",
    "# The database line would be <key_bytes_len><key><dtype><val_len><value>,\n",
    "# We will use the first 4 bytes to store the key_len as it cannot be less than zero\n",
    "# Then we will use the next key_len bytes to store the key then we will use the next 10 bytes to store the data_type.\n",
    "# The max the datatype can go is 10 bytes because we have the current support for 5 character i.e 10 bytes.\n",
    "# Then we will reserve the 4 bytes for the value length and then the next bytes the value would be encoded and stored.\n",
    "# The value would require 4*value_length bytes for integer data and 2*value bytes for string data.\n",
    "# Using this the final encoded thing would be\n",
    "# <18><employee1><5(int)><8bytes><8bytes>\n",
    "key_bytes = key.encode()\n",
    "print(key_bytes)\n",
    "key_bytes_len = len(key_bytes).to_bytes(length=4, byteorder='big')\n",
    "print(key_bytes_len)\n",
    "value_dtype_encoded = value_dtype.encode()\n",
    "print(value_dtype_encoded)\n",
    "value_dtype_bytes_len = len(value_dtype_encoded).to_bytes(length=4, byteorder='big')\n",
    "print(value_dtype_bytes_len)\n",
    "# value_bytes_encoded = value.to_bytes(length=4, byteorder='big')\n",
    "value_bytes_encoded = value.encode()\n",
    "print(value_bytes_encoded)\n",
    "value_byte_encoded_len = len(value_bytes_encoded).to_bytes(length=4, byteorder='big')\n",
    "print(value_bytes_encoded)\n",
    "\n",
    "final_encoded_array = key_bytes_len + key_bytes + value_dtype_bytes_len + value_dtype_encoded + value_byte_encoded_len + value_bytes_encoded\n",
    "final_encoded_array"
   ]
  },
  {
   "cell_type": "code",
   "execution_count": 109,
   "metadata": {},
   "outputs": [
    {
     "name": "stdout",
     "output_type": "stream",
     "text": [
      "5\n",
      "anant\n",
      "3\n",
      "int\n",
      "3\n",
      "400\n",
      "['anant', 'int', '400']\n"
     ]
    }
   ],
   "source": [
    "reader_pointer = 0\n",
    "key_len = int.from_bytes(final_encoded_array[reader_pointer:reader_pointer+4], byteorder='big')\n",
    "print(key_len)\n",
    "reader_pointer +=4\n",
    "key = final_encoded_array[reader_pointer:reader_pointer+key_len].decode()\n",
    "print(key)\n",
    "reader_pointer +=key_len\n",
    "value_dtype_len = int.from_bytes(final_encoded_array[reader_pointer:reader_pointer+4], byteorder='big')\n",
    "print(value_dtype_len)\n",
    "reader_pointer +=4\n",
    "value_dtype = final_encoded_array[reader_pointer:reader_pointer+value_dtype_len].decode()\n",
    "print(value_dtype)\n",
    "reader_pointer +=value_dtype_len\n",
    "value_length = int.from_bytes(final_encoded_array[reader_pointer:reader_pointer+4], byteorder='big')\n",
    "print(value_length)\n",
    "reader_pointer +=4\n",
    "# value = int.from_bytes(final_encoded_array[reader_pointer:reader_pointer+value_length], byteorder='big')\n",
    "value = final_encoded_array[reader_pointer:reader_pointer+value_length].decode()\n",
    "print(value)\n",
    "\n",
    "data_list = [key, value_dtype, value]\n",
    "print(data_list)\n",
    "\n"
   ]
  },
  {
   "cell_type": "code",
   "execution_count": 99,
   "metadata": {},
   "outputs": [
    {
     "name": "stdout",
     "output_type": "stream",
     "text": [
      "fffe3dd801de\n",
      "fffe6100\n",
      "fffe61003dd801de\n"
     ]
    }
   ],
   "source": [
    "x = '😁'\n",
    "print(x.encode(encoding='utf-16').hex())\n",
    "print('a'.encode(encoding='utf-16').hex())\n",
    "c = 'a😁'.encode(encoding='utf-16')\n",
    "print(c.hex())\n",
    "# print(c.decode())"
   ]
  },
  {
   "cell_type": "code",
   "execution_count": 105,
   "metadata": {},
   "outputs": [
    {
     "data": {
      "text/plain": [
       "b'\\xff\\xfe\\x00\\x00a\\x00\\x00\\x00'"
      ]
     },
     "execution_count": 105,
     "metadata": {},
     "output_type": "execute_result"
    }
   ],
   "source": [
    "'a'.encode(encoding='utf-32')"
   ]
  },
  {
   "cell_type": "code",
   "execution_count": 20,
   "metadata": {},
   "outputs": [
    {
     "ename": "AttributeError",
     "evalue": "'str' object has no attribute 'to_bytes'",
     "output_type": "error",
     "traceback": [
      "\u001b[1;31m---------------------------------------------------------------------------\u001b[0m",
      "\u001b[1;31mAttributeError\u001b[0m                            Traceback (most recent call last)",
      "Cell \u001b[1;32mIn[20], line 1\u001b[0m\n\u001b[1;32m----> 1\u001b[0m \u001b[38;5;28mprint\u001b[39m(\u001b[43mx\u001b[49m\u001b[38;5;241;43m.\u001b[39;49m\u001b[43mto_bytes\u001b[49m(length \u001b[38;5;241m=\u001b[39m \u001b[38;5;241m5\u001b[39m, byteorder\u001b[38;5;241m=\u001b[39m\u001b[38;5;124m'\u001b[39m\u001b[38;5;124mbig\u001b[39m\u001b[38;5;124m'\u001b[39m))\n\u001b[0;32m      2\u001b[0m \u001b[38;5;28mprint\u001b[39m(y\u001b[38;5;241m.\u001b[39mencode(encoding\u001b[38;5;241m=\u001b[39m\u001b[38;5;124m'\u001b[39m\u001b[38;5;124mutf-8\u001b[39m\u001b[38;5;124m'\u001b[39m))\n\u001b[0;32m      3\u001b[0m \u001b[38;5;28mprint\u001b[39m(z\u001b[38;5;241m.\u001b[39mhex())\n",
      "\u001b[1;31mAttributeError\u001b[0m: 'str' object has no attribute 'to_bytes'"
     ]
    }
   ],
   "source": [
    "print(x.to_bytes(length = 5, byteorder='big'))\n",
    "print(y.encode(encoding='utf-8'))\n",
    "print(z.hex())\n",
    "print(p.to_bytes(length=1, byteorder='big'))"
   ]
  },
  {
   "cell_type": "code",
   "execution_count": 50,
   "metadata": {},
   "outputs": [
    {
     "data": {
      "text/plain": [
       "'686579'"
      ]
     },
     "execution_count": 50,
     "metadata": {},
     "output_type": "execute_result"
    }
   ],
   "source": []
  },
  {
   "cell_type": "code",
   "execution_count": 43,
   "metadata": {},
   "outputs": [
    {
     "name": "stdout",
     "output_type": "stream",
     "text": [
      "0x1.9000000000000p+3\n"
     ]
    }
   ],
   "source": [
    "f = z()\n",
    "print(f)\n",
    "print(f.)"
   ]
  }
 ],
 "metadata": {
  "kernelspec": {
   "display_name": "base",
   "language": "python",
   "name": "python3"
  },
  "language_info": {
   "codemirror_mode": {
    "name": "ipython",
    "version": 3
   },
   "file_extension": ".py",
   "mimetype": "text/x-python",
   "name": "python",
   "nbconvert_exporter": "python",
   "pygments_lexer": "ipython3",
   "version": "3.10.13"
  }
 },
 "nbformat": 4,
 "nbformat_minor": 2
}
